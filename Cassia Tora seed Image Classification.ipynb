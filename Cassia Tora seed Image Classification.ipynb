{
 "cells": [
  {
   "cell_type": "markdown",
   "id": "e3dfa7c4-eadc-4544-b6d1-c21070fde945",
   "metadata": {},
   "source": [
    "Import Neccessary Libraries"
   ]
  },
  {
   "cell_type": "code",
   "execution_count": null,
   "id": "a1c13f0e-7b44-45ad-9407-625fde508b80",
   "metadata": {},
   "outputs": [],
   "source": [
    "import tensorflow as tf\n",
    "from tensorflow import keras\n",
    "from tensorflow.keras import layers\n",
    "from tensorflow.keras.preprocessing.image import ImageDataGenerator\n",
    "from tensorflow.keras.applications import EfficientNetB3\n",
    "from sklearn.model_selection import train_test_split\n",
    "from sklearn.metrics import classification_report, confusion_matrix\n",
    "import numpy as np\n",
    "import matplotlib.pyplot as plt\n",
    "import seaborn as sns\n",
    "import os\n",
    "import shutil\n",
    "import random"
   ]
  },
  {
   "cell_type": "markdown",
   "id": "9832d3af-e4e3-4b14-9858-6c7c3c8812cb",
   "metadata": {},
   "source": [
    "Data Parameters"
   ]
  },
  {
   "cell_type": "code",
   "execution_count": null,
   "id": "d0b84efa-b331-439f-9253-c47425ee91a0",
   "metadata": {},
   "outputs": [],
   "source": [
    "DATA_DIR = r\"C:\\Users\\user\\Downloads\\Datasets\\Datasets\".strip()\n",
    "IMAGE_SIZE = (224, 224)\n",
    "BATCH_SIZE = 32\n",
    "EPOCHS = 10 \n",
    "VAL_SPLIT = 0.10\n",
    "TEST_SPLIT = 0.10\n",
    "SEED = 42  # For reproducibility"
   ]
  },
  {
   "cell_type": "markdown",
   "id": "dc1f4b64-0564-4b78-bd32-ebff153384eb",
   "metadata": {},
   "source": [
    "Data Loading and Splitting"
   ]
  },
  {
   "cell_type": "code",
   "execution_count": null,
   "id": "55bdb54a-dc92-4e98-a6d6-7d85a7cc2121",
   "metadata": {},
   "outputs": [],
   "source": [
    "# Create temporary directories for splitting\n",
    "\n",
    "IMAGE_EXTENSIONS = ['.jpg', '.jpeg', '.png', '.bmp', '.tiff']\n",
    "\n",
    "base_dir = 'splitted_dataset'\n",
    "train_dir = os.path.join(base_dir, 'train')\n",
    "val_dir = os.path.join(base_dir, 'validation')\n",
    "test_dir = os.path.join(base_dir, 'test')\n",
    "\n",
    "# Clean up previous runs\n",
    "if os.path.exists(base_dir):\n",
    "    shutil.rmtree(base_dir)\n",
    "\n",
    "os.makedirs(train_dir, exist_ok=True)\n",
    "os.makedirs(val_dir, exist_ok=True)\n",
    "os.makedirs(test_dir, exist_ok=True)\n",
    "\n",
    "class_names = sorted([folder for folder in os.listdir(DATA_DIR) if os.path.isdir(os.path.join(DATA_DIR, folder))])\n",
    "\n",
    "#class_names = sorted(os.listdir(DATA_DIR))\n",
    "for class_name in class_names:\n",
    "    os.makedirs(os.path.join(train_dir, class_name), exist_ok=True)\n",
    "    os.makedirs(os.path.join(val_dir, class_name), exist_ok=True)\n",
    "    os.makedirs(os.path.join(test_dir, class_name), exist_ok=True)\n",
    "\n",
    "    class_path = os.path.join(DATA_DIR, class_name)\n",
    "    images = [os.path.join(class_path, img) for img in os.listdir(class_path)]\n",
    "    random.seed(SEED)\n",
    "    random.shuffle(images)\n",
    "\n",
    "# Calculate split sizes\n",
    "    total_images = len(images)\n",
    "    train_split_idx = int(total_images * (1 - VAL_SPLIT - TEST_SPLIT))\n",
    "    val_split_idx = int(total_images * (1 - TEST_SPLIT) )\n",
    "\n",
    "    train_images = images[:train_split_idx]\n",
    "    val_images = images[train_split_idx:val_split_idx]\n",
    "    test_images = images[val_split_idx:]\n",
    "\n",
    "    print(f\"Class: {class_name}\")\n",
    "    print(f\"  Total images: {total_images}\")\n",
    "    print(f\"  Train images: {len(train_images)}\")\n",
    "    print(f\"  Validation images: {len(val_images)}\")\n",
    "    print(f\"  Test images: {len(test_images)}\")"
   ]
  },
  {
   "cell_type": "code",
   "execution_count": null,
   "id": "a9b81b02-e3d5-4561-bc58-5a45cd7ff831",
   "metadata": {},
   "outputs": [],
   "source": [
    " # Copy images to respective directories\n",
    "for img_path in train_images:\n",
    "        shutil.copy(img_path, os.path.join(train_dir, class_name))\n",
    "for img_path in val_images:\n",
    "        shutil.copy(img_path, os.path.join(val_dir, class_name))\n",
    "for img_path in test_images:\n",
    "        shutil.copy(img_path, os.path.join(test_dir, class_name))\n",
    "\n",
    "print(\"\\nDataset split complete.\")\n"
   ]
  },
  {
   "cell_type": "code",
   "execution_count": null,
   "id": "f2af1d77-ac58-406e-a96c-1cd24d2faa2d",
   "metadata": {},
   "outputs": [],
   "source": [
    "# Data generators for loading images from split directories\n",
    "train_datagen = ImageDataGenerator(rescale=1./255)\n",
    "val_datagen = ImageDataGenerator(rescale=1./255)\n",
    "test_datagen = ImageDataGenerator(rescale=1./255)\n",
    "\n",
    "train_generator = train_datagen.flow_from_directory(\n",
    "    train_dir,\n",
    "    target_size=IMAGE_SIZE,\n",
    "    batch_size=BATCH_SIZE,\n",
    "    class_mode='categorical',\n",
    "    seed=SEED\n",
    ")\n",
    "\n",
    "validation_generator = val_datagen.flow_from_directory(\n",
    "    val_dir,\n",
    "    target_size=IMAGE_SIZE,\n",
    "    batch_size=BATCH_SIZE,\n",
    "    class_mode='categorical',\n",
    "    seed=SEED\n",
    ")\n",
    "\n",
    "test_generator = test_datagen.flow_from_directory(\n",
    "    test_dir,\n",
    "    target_size=IMAGE_SIZE,\n",
    "    batch_size=BATCH_SIZE,\n",
    "    class_mode='categorical',\n",
    "    shuffle=False, # To Keep order for evaluation\n",
    "    seed=SEED\n",
    ")\n"
   ]
  },
  {
   "cell_type": "code",
   "execution_count": null,
   "id": "12487da7-08e1-43e7-b976-a4f8cc2d77ca",
   "metadata": {},
   "outputs": [],
   "source": []
  }
 ],
 "metadata": {
  "kernelspec": {
   "display_name": "Python 3 (ipykernel)",
   "language": "python",
   "name": "python3"
  },
  "language_info": {
   "codemirror_mode": {
    "name": "ipython",
    "version": 3
   },
   "file_extension": ".py",
   "mimetype": "text/x-python",
   "name": "python",
   "nbconvert_exporter": "python",
   "pygments_lexer": "ipython3",
   "version": "3.11.9"
  }
 },
 "nbformat": 4,
 "nbformat_minor": 5
}
